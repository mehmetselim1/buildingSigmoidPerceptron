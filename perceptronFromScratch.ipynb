{
  "nbformat": 4,
  "nbformat_minor": 0,
  "metadata": {
    "colab": {
      "provenance": [],
      "authorship_tag": "ABX9TyMm/h5bo0uazIcHJPkIDtik",
      "include_colab_link": true
    },
    "kernelspec": {
      "name": "python3",
      "display_name": "Python 3"
    },
    "language_info": {
      "name": "python"
    }
  },
  "cells": [
    {
      "cell_type": "markdown",
      "metadata": {
        "id": "view-in-github",
        "colab_type": "text"
      },
      "source": [
        "<a href=\"https://colab.research.google.com/github/mehmetselim1/buildingSigmoidPerceptron/blob/main/perceptronFromScratch.ipynb\" target=\"_parent\"><img src=\"https://colab.research.google.com/assets/colab-badge.svg\" alt=\"Open In Colab\"/></a>"
      ]
    },
    {
      "cell_type": "code",
      "execution_count": 1,
      "metadata": {
        "id": "gSlZWjjnqILV"
      },
      "outputs": [],
      "source": [
        "import numpy as np"
      ]
    },
    {
      "cell_type": "markdown",
      "source": [
        "Sigmoid Perceptron Class"
      ],
      "metadata": {
        "id": "zCa_6Mvjqenq"
      }
    },
    {
      "cell_type": "code",
      "source": [
        "class SigmoidPerceptron():\n",
        "\n",
        "\n",
        "\n",
        "  def __init__(self, input_size):\n",
        "\n",
        "    self.weights = np.random.randn(input_size)\n",
        "    self.bias = np.random.randn(1)\n",
        "\n",
        "\n",
        "\n",
        "\n",
        "  def sigmoid(self, z):\n",
        "    return 1/(1 + np.exp(-z))\n",
        "\n",
        "\n",
        "\n",
        "\n",
        "  def predict(self, inputs):\n",
        "    weighted_sum = np.dot(inputs, self.weights) + self.bias\n",
        "    return self.sigmoid(weighted_sum)\n",
        "\n",
        "\n",
        "\n",
        "\n",
        "  def fit(self, inputs, targets, learning_rate, num_epochs):\n",
        "\n",
        "    num_examples = inputs.shape[0]\n",
        "\n",
        "    for epoch in range(num_epochs):\n",
        "\n",
        "      for i in range(num_examples):\n",
        "\n",
        "        input_vector = inputs[i]\n",
        "\n",
        "        target = targets[i]\n",
        "\n",
        "        prediction = self.predict(input_vector)\n",
        "\n",
        "        error = target - prediction\n",
        "\n",
        "        # Update weights\n",
        "        gradient_weights = error * prediction (1 - prediction) * input_vector\n",
        "        self.weights += learning_rate * gradient_weights\n",
        "\n",
        "        # Update bias\n",
        "        gradient_bias = error * prediction (1 - prediction)\n",
        "        self.bias += learning_rate * gradient_bias\n",
        "\n",
        "\n",
        "\n",
        "\n",
        "  def evaluate(self, inputs, targets):\n",
        "\n",
        "    correct = 0\n",
        "\n",
        "    for input_vector, target in zip(inputs, targets):\n",
        "      prediction = self.predict(input_vector)\n",
        "\n",
        "      if prediction >= 0.5:\n",
        "        predicted_class = 1\n",
        "      else:\n",
        "        predicted_class = 0\n",
        "\n",
        "\n",
        "      if predicted_class == target:\n",
        "        correct += 1\n",
        "\n",
        "    accuracy = correct / len(inputs)  # Accuracy is number of correct predictions / total number of inputs\n",
        "    return accuracy\n",
        ""
      ],
      "metadata": {
        "id": "9x-xDnSkqdrv"
      },
      "execution_count": 2,
      "outputs": []
    },
    {
      "cell_type": "code",
      "source": [
        "model = SigmoidPerceptron()"
      ],
      "metadata": {
        "colab": {
          "base_uri": "https://localhost:8080/",
          "height": 179
        },
        "id": "j_1lQMJfreAq",
        "outputId": "65bc926a-e83f-465d-98d6-56a61992fe4c"
      },
      "execution_count": 3,
      "outputs": [
        {
          "output_type": "error",
          "ename": "TypeError",
          "evalue": "ignored",
          "traceback": [
            "\u001b[0;31m---------------------------------------------------------------------------\u001b[0m",
            "\u001b[0;31mTypeError\u001b[0m                                 Traceback (most recent call last)",
            "\u001b[0;32m<ipython-input-3-e199cb6e178d>\u001b[0m in \u001b[0;36m<cell line: 1>\u001b[0;34m()\u001b[0m\n\u001b[0;32m----> 1\u001b[0;31m \u001b[0mmodel\u001b[0m \u001b[0;34m=\u001b[0m \u001b[0mSigmoidPerceptron\u001b[0m\u001b[0;34m(\u001b[0m\u001b[0;34m)\u001b[0m\u001b[0;34m\u001b[0m\u001b[0;34m\u001b[0m\u001b[0m\n\u001b[0m",
            "\u001b[0;31mTypeError\u001b[0m: SigmoidPerceptron.__init__() missing 1 required positional argument: 'input_size'"
          ]
        }
      ]
    }
  ]
}